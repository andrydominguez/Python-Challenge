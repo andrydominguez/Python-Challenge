{
 "cells": [
  {
   "cell_type": "markdown",
   "metadata": {},
   "source": [
    "The total number of months included in the dataset\n",
    "\n",
    "The net total amount of \"Profit/Losses\" over the entire period\n",
    "\n",
    "The average of the changes in \"Profit/Losses\" over the entire period\n",
    "\n",
    "The greatest increase in profits (date and amount) over the entire period\n",
    "\n",
    "The greatest decrease in losses (date and amount) over the entire period"
   ]
  },
  {
   "cell_type": "code",
   "execution_count": 1,
   "metadata": {},
   "outputs": [],
   "source": [
    "import os\n",
    "import csv\n",
    "\n",
    "csv_path= os.path.join(\"Resources\",\"budget_data.csv\")\n",
    "\n",
    "with open(csv_path,'r') as csvfile:\n",
    "    csvreader = csv.DictReader(csvfile, delimiter=',')\n",
    "    \n",
    "    #the total number of months included in the dataset\n",
    "    total_months = 0\n",
    "    net_total = 0\n",
    "    changes = []\n",
    "    difference = []\n",
    "    changes_months = []\n",
    "    \n",
    "    for i in csvreader:\n",
    "        total_months = total_months + 1 \n",
    "        net_total = net_total + int(i['Profit/Losses'])\n",
    "        changes.append(int(i['Profit/Losses']))\n",
    "        changes_months.append(i['Date'])\n",
    "    i=1\n",
    "    while i < len(changes):\n",
    "        diff = changes[i] - changes[i-1]\n",
    "        difference.append(diff)\n",
    "        i = i+1\n",
    "        \n",
    "    mean = sum(difference)/len(difference)  \n",
    "    max_increase = max(difference)\n",
    "    min_increase = min(difference)\n",
    "    "
   ]
  },
  {
   "cell_type": "code",
   "execution_count": 2,
   "metadata": {},
   "outputs": [],
   "source": [
    "with open(csv_path,'r') as csvfile:\n",
    "    csvreader = csv.DictReader(csvfile, delimiter=',')\n",
    "    \n",
    "    connect = zip(changes_months[1:],difference)\n",
    "    for i in connect:\n",
    "        if i[1] == max_increase:\n",
    "            date_increase = i[0]\n",
    "        if i[1] == min_increase:\n",
    "            date_decrease = i[0]\n",
    "        \n",
    "        "
   ]
  },
  {
   "cell_type": "code",
   "execution_count": 3,
   "metadata": {},
   "outputs": [
    {
     "name": "stdout",
     "output_type": "stream",
     "text": [
      "Financial Analysis:\n",
      "-------------------------------------------------------\n",
      "Total Months: 86\n",
      "Total Revenue: 38382578 USD\n",
      "Average Revenue Change: -2315.1176470588234 USD\n",
      "Greatest Increase in Profits: Feb-2012 1926159 USD\n",
      "Greatest Decrease in Profits: Sep-2013 -2196167 USD\n",
      "\n"
     ]
    }
   ],
   "source": [
    "    print(f\"Financial Analysis:\")\n",
    "    print(\"-------------------------------------------------------\")\n",
    "    print(f\"Total Months: {total_months}\")\n",
    "    print(f\"Total Revenue: {net_total} USD\")\n",
    "    print(f\"Average Revenue Change: {mean} USD\")\n",
    "    print(f\"Greatest Increase in Profits: {date_increase} {max_increase} USD\")\n",
    "    print(f\"Greatest Decrease in Profits: {date_decrease} {min_increase} USD\")\n",
    "    print(\"\")\n",
    "       \n",
    "\n",
    "    "
   ]
  },
  {
   "cell_type": "code",
   "execution_count": 4,
   "metadata": {},
   "outputs": [],
   "source": [
    "with open(\"Financial Analysis.txt\",'w') as filewriter:     \n",
    "    filewriter.write(f\"Financial Analysis:\\n\")\n",
    "    filewriter.write(\"-------------------------------------------------------\\n\")\n",
    "    filewriter.write(f\"Total Months: {total_months}\\n\")\n",
    "    filewriter.write(f\"Total Revenue: {net_total} USD\\n\")\n",
    "    filewriter.write(f\"Average Revenue Change: {mean} USD\\n\")\n",
    "    filewriter.write(f\"Greatest Increase in Profits: {date_increase} {max_increase} USD\\n\")\n",
    "    filewriter.write(f\"Greatest Decrease in Profits: {date_decrease} {min_increase} USD\\n\")\n",
    "   \n",
    "    "
   ]
  },
  {
   "cell_type": "code",
   "execution_count": null,
   "metadata": {},
   "outputs": [],
   "source": []
  }
 ],
 "metadata": {
  "kernelspec": {
   "display_name": "Python 3",
   "language": "python",
   "name": "python3"
  },
  "language_info": {
   "codemirror_mode": {
    "name": "ipython",
    "version": 3
   },
   "file_extension": ".py",
   "mimetype": "text/x-python",
   "name": "python",
   "nbconvert_exporter": "python",
   "pygments_lexer": "ipython3",
   "version": "3.6.5"
  }
 },
 "nbformat": 4,
 "nbformat_minor": 2
}
