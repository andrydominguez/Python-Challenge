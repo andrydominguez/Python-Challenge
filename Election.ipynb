{
 "cells": [
  {
   "cell_type": "markdown",
   "metadata": {},
   "source": [
    "The total number of votes cast\n",
    "A complete list of candidates who received votes\n",
    "The percentage of votes each candidate won\n",
    "The total number of votes each candidate won\n",
    "The winner of the election based on popular vote."
   ]
  },
  {
   "cell_type": "code",
   "execution_count": 1,
   "metadata": {},
   "outputs": [
    {
     "name": "stdout",
     "output_type": "stream",
     "text": [
      "Election Results\n",
      "-------------------------------------------\n",
      "Total Votes: 3521001\n",
      "-------------------------------------------\n",
      "Khan: 63.000% (2218231)\n",
      "Correy: 20.000% (704200)\n",
      "Li: 14.000% (492940)\n",
      "O'Tooley: 3.000% (105630)\n",
      "-------------------------------------------\n",
      "Winner: Khan\n",
      "-------------------------------------------\n"
     ]
    }
   ],
   "source": [
    "import csv\n",
    "import os\n",
    "\n",
    "fname = os.path.join('Resources', 'election_data.csv')\n",
    "\n",
    "with open(fname, 'r') as csvfile:\n",
    "    csvreader = csv.DictReader(csvfile)\n",
    "\n",
    "   #total number of votes casted\n",
    "    total_voters = 0\n",
    "   #complete list of candidates per vote\n",
    "    list_candidates = []\n",
    "   #votes for each candidate\n",
    "    khan_votes = 0\n",
    "    correy_votes = 0\n",
    "    li_votes = 0\n",
    "    otooley_votes = 0\n",
    "\n",
    "    for i in csvreader:\n",
    "        total_voters +=1\n",
    "        list_candidates.append(i['Candidate'])\n",
    "\n",
    "        if i[\"Candidate\"].lower() == \"khan\":\n",
    "            khan_votes += 1\n",
    "        elif i[\"Candidate\"].lower() == \"correy\":\n",
    "            correy_votes +=1\n",
    "        elif i[\"Candidate\"].lower() == \"li\":\n",
    "            li_votes +=1\n",
    "        elif i[\"Candidate\"].lower() == \"o'tooley\":\n",
    "            otooley_votes += 1\n",
    "\n",
    "        if khan_votes > correy_votes or li_votes or otooley_votes:\n",
    "            winner = \"Khan\"\n",
    "        elif correy_votes > khan_votes or li_votes or otooley_votes:\n",
    "            winner = \"Correy\"\n",
    "        elif li_votes > khan_votes or correy_votes or otooley_votes:\n",
    "            winner = \"Li\"\n",
    "        elif otooley_votes > khan_votes or correy_votes or li_votes:\n",
    "            winner = \"O'Tooley\"\n",
    "\n",
    "        #candidate percentages\n",
    "    k_perc = (khan_votes/total_voters) * 100\n",
    "    c_perc = (correy_votes/total_voters) * 100\n",
    "    l_perc = (li_votes/total_voters) * 100\n",
    "    o_perc = (otooley_votes/total_voters) * 100\n",
    "\n",
    "    print(\"Election Results\")\n",
    "    print(\"-------------------------------------------\")\n",
    "    print(f\"Total Votes: {total_voters}\")\n",
    "    print(\"-------------------------------------------\")\n",
    "    print(f\"Khan: {round(k_perc,2)}00% ({khan_votes})\")\n",
    "    print(f\"Correy: {round(c_perc,2)}00% ({correy_votes})\")\n",
    "    print(f\"Li: {round(l_perc,2)}00% ({li_votes})\")\n",
    "    print(f\"O'Tooley: {round(o_perc,2)}00% ({otooley_votes})\")\n",
    "    print(\"-------------------------------------------\")\n",
    "    print(f\"Winner: {winner}\")\n",
    "    print(\"-------------------------------------------\")\n",
    "\n",
    "with open('election_results.txt', 'w') as wf:\n",
    "\n",
    "    wf.write(\"Election Results\\n\")\n",
    "    wf.write(\"-------------------------------------------\\n\")\n",
    "    wf.write(f\"Total Votes: {total_voters}\\n\")\n",
    "    wf.write(\"-------------------------------------------\\n\")\n",
    "    wf.write(f\"Khan: {round(k_perc,2)}00% ({khan_votes})\\n\")\n",
    "    wf.write(f\"Correy: {round(c_perc,2)}00% ({correy_votes})\\n\")\n",
    "    wf.write(f\"Li: {round(l_perc,2)}00% ({li_votes})\\n\")\n",
    "    wf.write(f\"O'Tooley: {round(o_perc,2)}00% ({otooley_votes})\\n\")\n",
    "    wf.write(\"-------------------------------------------\\n\")\n",
    "    wf.write(f\"Winner: {winner}\\n\")\n",
    "    wf.write(\"-------------------------------------------\\n\")"
   ]
  },
  {
   "cell_type": "code",
   "execution_count": null,
   "metadata": {},
   "outputs": [],
   "source": []
  }
 ],
 "metadata": {
  "kernelspec": {
   "display_name": "Python 3",
   "language": "python",
   "name": "python3"
  },
  "language_info": {
   "codemirror_mode": {
    "name": "ipython",
    "version": 3
   },
   "file_extension": ".py",
   "mimetype": "text/x-python",
   "name": "python",
   "nbconvert_exporter": "python",
   "pygments_lexer": "ipython3",
   "version": "3.6.5"
  }
 },
 "nbformat": 4,
 "nbformat_minor": 2
}
